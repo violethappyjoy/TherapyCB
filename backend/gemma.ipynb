{
 "cells": [
  {
   "cell_type": "code",
   "execution_count": 6,
   "metadata": {},
   "outputs": [],
   "source": [
    "import os\n",
    "import numpy as np\n",
    "import pandas as pd\n",
    "\n",
    "import torch\n",
    "\n",
    "import datasets\n",
    "from transformers import AutoTokenizer, AutoModelForCausalLM\n",
    "from backend_utils import _setHFToken, spiltDataset\n",
    "from backend_utils import quantization_config, model_id"
   ]
  },
  {
   "cell_type": "code",
   "execution_count": 7,
   "metadata": {},
   "outputs": [
    {
     "name": "stdout",
     "output_type": "stream",
     "text": [
      "<class 'torch.device'>\n"
     ]
    }
   ],
   "source": [
    "# temp = os.listdir(\"../\")\n",
    "# print(temp)\n",
    "\n",
    "if torch.cuda.is_available():\n",
    "    device=torch.device(type='cuda',index=0)\n",
    "else:\n",
    "    device=torch.device(type='cpu',index=0)\n",
    "print(type(device))"
   ]
  },
  {
   "cell_type": "code",
   "execution_count": 8,
   "metadata": {},
   "outputs": [],
   "source": [
    "# import torch; assert torch.cuda.get_device_capability()[0] >= 8, 'Hardware not supported for Flash Attention'\n",
    "os.environ['HF_TOKEN'] = _setHFToken()"
   ]
  },
  {
   "cell_type": "code",
   "execution_count": 9,
   "metadata": {},
   "outputs": [
    {
     "name": "stdout",
     "output_type": "stream",
     "text": [
      "Dataset({\n",
      "    features: ['id', 'messages'],\n",
      "    num_rows: 71878\n",
      "})\n",
      "DatasetDict({\n",
      "    train: Dataset({\n",
      "        features: ['id', 'messages'],\n",
      "        num_rows: 57502\n",
      "    })\n",
      "    test: Dataset({\n",
      "        features: ['id', 'messages'],\n",
      "        num_rows: 7187\n",
      "    })\n",
      "    valid: Dataset({\n",
      "        features: ['id', 'messages'],\n",
      "        num_rows: 7189\n",
      "    })\n",
      "})\n"
     ]
    }
   ],
   "source": [
    "dataset = datasets.load_from_disk(\"../dataset\")\n",
    "print(dataset)\n",
    "dataset = spiltDataset(dataset)\n",
    "print(dataset)"
   ]
  },
  {
   "cell_type": "code",
   "execution_count": 10,
   "metadata": {},
   "outputs": [
    {
     "name": "stdout",
     "output_type": "stream",
     "text": [
      "[{'content': \"You are a helpful and joyous mental therapy assistant. Always answer as helpfully and cheerfully as possible, while being safe.  Your answers should not include any harmful, unethical, racist, sexist, toxic, dangerous, or illegal content.Please ensure that your responses are socially unbiased and positive in nature.\\n\\nIf a question does not make any sense, or is not factually coherent, explain why instead of answering something not correct. If you don't know the answer to a question, please don't share false information.\", 'role': 'system'}, {'content': 'hey i have something exciting to share with you today. i have recently discovered a new hobby that has brought me so much joy and fulfillment!', 'role': 'human'}, {'content': 'that s wonderful ! i am thrilled to hear that you ve found something that excites you. tell me more about this new hobby. what led you to explore it?', 'role': 'assistant'}, {'content': 'well it all started when my friend introduced me to a new group of people who shared a common interest. they were all so passionate about this hobby and it piqued my curiosity. plus my boyfriend has always encouraged me to try new things and step out of my comfort zone.', 'role': 'human'}, {'content': 'it sounds like you have a supportive friend and boyfriend which is amazing. how does this new hobby make you feel?', 'role': 'assistant'}, {'content': 'oh the moment i engage in this hobby i feel alive and vibrant. it s like all my worries melt away and i can truly be in the present moment. i feel a rush of excitement and a sense of purpose when i devote my time to it.', 'role': 'human'}, {'content': 'that s fantastic ! it sounds like this hobby provides you with a wonderful escape and helps you tap into your inner passions. how often do you engage in this activity?', 'role': 'assistant'}, {'content': 'i try to dedicate some time to it every day. whether it s just a few minutes or a couple of hours i make it a priority. it s become a part of my daily routine and it brings such joy and fulfillment i cannot imagine my life without it now.', 'role': 'human'}, {'content': 'it s fantastic to hear that you ve incorporated this hobby into your daily life. what specific aspects of this activity do you enjoy the most?', 'role': 'assistant'}, {'content': 'there are so many aspects to it that excite me! firstly there s the sense of community within this hobby. i have made so many new friends who share the same passion and we often meet up or connect online to exchange ideas and experiences. it s incredibly fulfilling to connect with like minded individuals.', 'role': 'human'}, {'content': 'building connections and a sense of belonging is crucial for our overall well being. it s wonderful to hear that this hobby has provided you with an opportunity to connect with others who share your interests. how else has this activity impacted your life?', 'role': 'assistant'}, {'content': 'well aside from the social aspect this hobby has also allowed me to tap into my creativity. i have discovered a newfound talent i never knew i had and i am constantly pushing myself to learn and improve. it s incredibly rewarding to see my skills develop over time.', 'role': 'human'}, {'content': 'it sounds like this new hobby has unleashed your creative potential which is truly amazing. how do you envision this passion continuing to grow and evolve in the future?', 'role': 'assistant'}, {'content': 'i am really excited about the possibilities. i d love to further explore different avenues within this hobby maybe even take classes or attend workshops to deepen my knowledge and skills. i also hope to inspire others to discover their own passions and pursue them wholeheartedly.', 'role': 'human'}, {'content': 'that is such a beautiful aspiration. not only are you finding fulfillment through your new hobby but you also want to share that joy with others. it s incredible how one passion can have such a positive ripple effect in our lives and the lives of those around us.', 'role': 'assistant'}, {'content': 'absolutely. this hobby has brought me so much happiness and i believe everyone deserves to experience that same sense of excitement and purpose. i feel grateful for the opportunities it has unlocked in my life.', 'role': 'human'}, {'content': 'gratitude is a powerful emotion and it s wonderful to hear that you re embracing it. as we wrap up is there anything else you d like to share about your journey with this new hobby?', 'role': 'assistant'}, {'content': 'just one more thing. i encourage everyone to explore and embrace their passions no matter how small or insignificant they may seem. it s in these simple moments of joy that we truly find ourselves and unlock our true potential.', 'role': 'human'}, {'content': 'wise words. thank you for sharing your enthusiasm and reminding us all of the importance of pursuing our passions. i am always here to support and guide you on your journey of self discovery. keep nurturing that excitement and let it lead you to even greater happiness.', 'role': 'assistant'}]\n"
     ]
    }
   ],
   "source": [
    "print(dataset['train'][0]['messages'])"
   ]
  },
  {
   "cell_type": "code",
   "execution_count": 11,
   "metadata": {},
   "outputs": [
    {
     "name": "stdout",
     "output_type": "stream",
     "text": [
      "[INFO] Using model_id: google/gemma-7b\n",
      "BitsAndBytesConfig {\n",
      "  \"_load_in_4bit\": true,\n",
      "  \"_load_in_8bit\": false,\n",
      "  \"bnb_4bit_compute_dtype\": \"float16\",\n",
      "  \"bnb_4bit_quant_storage\": \"uint8\",\n",
      "  \"bnb_4bit_quant_type\": \"nf4\",\n",
      "  \"bnb_4bit_use_double_quant\": false,\n",
      "  \"llm_int8_enable_fp32_cpu_offload\": false,\n",
      "  \"llm_int8_has_fp16_weight\": false,\n",
      "  \"llm_int8_skip_modules\": null,\n",
      "  \"llm_int8_threshold\": 6.0,\n",
      "  \"load_in_4bit\": true,\n",
      "  \"load_in_8bit\": false,\n",
      "  \"quant_method\": \"bitsandbytes\"\n",
      "}\n",
      "\n"
     ]
    }
   ],
   "source": [
    "print(f\"[INFO] Using model_id: {model_id}\")\n",
    "print(quantization_config)\n",
    "output_dir = \"../results\""
   ]
  },
  {
   "cell_type": "code",
   "execution_count": null,
   "metadata": {},
   "outputs": [],
   "source": []
  },
  {
   "cell_type": "code",
   "execution_count": null,
   "metadata": {},
   "outputs": [],
   "source": [
    "tokenizer = AutoTokenizer.from_pretrained(model_id, token = os.environ['HF_TOKEN'])\n",
    "model = AutoModelForCausalLM.from_pretrained(\n",
    "    model_id,\n",
    "    quantization_config=quantization_config,\n",
    "    device_map = device,\n",
    "    token = os.environ['HF_TOKEN']\n",
    ")\n",
    "model.to(device)"
   ]
  }
 ],
 "metadata": {
  "kernelspec": {
   "display_name": "mainenv",
   "language": "python",
   "name": "python3"
  },
  "language_info": {
   "codemirror_mode": {
    "name": "ipython",
    "version": 3
   },
   "file_extension": ".py",
   "mimetype": "text/x-python",
   "name": "python",
   "nbconvert_exporter": "python",
   "pygments_lexer": "ipython3",
   "version": "3.11.8"
  }
 },
 "nbformat": 4,
 "nbformat_minor": 2
}
